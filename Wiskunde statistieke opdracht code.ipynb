{
 "cells": [
  {
   "cell_type": "code",
   "execution_count": 31,
   "id": "68d8af99-b301-4fc8-8f4e-5beca9e4d916",
   "metadata": {},
   "outputs": [
    {
     "name": "stdout",
     "output_type": "stream",
     "text": [
      "Standaardafwijking van T = 0.0170367866935152\n",
      "sigma_h = 0.07428435894067045\n",
      "Relatieve fout van g= 0.007135575942915392 meter\n",
      "Relatieve fout van t= 0.03849499898470187 meter\n",
      "De hoogte is 0.9607397473469388 +- 0.07428435894067045 meter\n",
      "T_eind = 0.44257142857142856 seconden\n"
     ]
    }
   ],
   "source": [
    "import numpy as np\n",
    "\n",
    "# Parameters\n",
    "sigma_g = 0.07\n",
    "g = 9.81\n",
    "relatieve_fout_g = sigma_g/g\n",
    "\n",
    "# metingen\n",
    "T = [0.43, 0.45, 0.45, 0.42, 0.44, 0.45, 0.46, 0.45, 0.44, 0.43, 0.46, 0.45, 0.45, 0.43, 0.45, 0.41, 0.5, 0.44, 0.44, 0.42, 0.45, 0.47, 0.43, 0.43, 0.45, 0.45, 0.42, 0.44, 0.45, 0.46, 0.45, 0.43, 0.44, 0.42, 0.43]\n",
    "\n",
    "# gemiddelde berekenen\n",
    "n = len(T)\n",
    "T_bar = sum(T) / n  \n",
    "\n",
    "#-1/2*g*t^2\n",
    "h0 = (1/2) * g * T_bar**2\n",
    "\n",
    "# Stap 1: som van (Ti - T̄)^2 berekenen met een loop\n",
    "som_kwadraat_afwijkingen = 0\n",
    "for Ti in T:\n",
    "    som_kwadraat_afwijkingen += (Ti - T_bar) ** 2\n",
    "\n",
    "# Stap 2: standaardafwijking voor t berekenen\n",
    "std_T = np.sqrt((1 / (n - 1)) * som_kwadraat_afwijkingen)\n",
    "print(\"Standaardafwijking van T =\", std_T)\n",
    "\n",
    "# Correcte formule voor sigma_h\n",
    "sigma_h = np.sqrt((-0.5 * T_bar**2 * sigma_g)**2 + (-g * T_bar * std_T)**2)\n",
    "print(\"sigma_h =\", sigma_h)\n",
    "\n",
    "#relatieve fout van T berekenen\n",
    "relatieve_fout_t = std_T/T_bar\n",
    "print(\"Relatieve fout van g=\", relatieve_fout_g, \"meter\")\n",
    "print(\"Relatieve fout van t=\", relatieve_fout_t, \"meter\")\n",
    "print(\"De hoogte is\", h0,  \"+-\", sigma_h, \"meter\")\n",
    "print(\"T_eind =\", T_bar, \"seconden\")\n",
    "\n"
   ]
  },
  {
   "cell_type": "code",
   "execution_count": null,
   "id": "6585cc70-50b8-488b-945c-87ebb21be2db",
   "metadata": {},
   "outputs": [],
   "source": []
  }
 ],
 "metadata": {
  "kernelspec": {
   "display_name": "Python [conda env:base] *",
   "language": "python",
   "name": "conda-base-py"
  },
  "language_info": {
   "codemirror_mode": {
    "name": "ipython",
    "version": 3
   },
   "file_extension": ".py",
   "mimetype": "text/x-python",
   "name": "python",
   "nbconvert_exporter": "python",
   "pygments_lexer": "ipython3",
   "version": "3.12.7"
  }
 },
 "nbformat": 4,
 "nbformat_minor": 5
}
